{
 "cells": [
  {
   "cell_type": "code",
   "execution_count": 2,
   "metadata": {},
   "outputs": [],
   "source": [
    "##importing a few general use case libraries\n",
    "import numpy as np\n",
    "import pandas as pd\n",
    "import matplotlib.pyplot as plt\n",
    "import seaborn as sns\n",
    "\n",
    "from sklearn.model_selection import StratifiedShuffleSplit\n",
    "\n",
    "import warnings\n",
    "warnings.filterwarnings('ignore')"
   ]
  },
  {
   "cell_type": "code",
   "execution_count": 3,
   "metadata": {},
   "outputs": [
    {
     "name": "stdout",
     "output_type": "stream",
     "text": [
      "c:\\Abdelouaheb\\perso\\Ph\\machine_learning_pipeline\\diabetes\n"
     ]
    }
   ],
   "source": [
    "import pathlib \n",
    "import os\n",
    "import  shutil\n",
    "\n",
    "dir_path= pathlib.Path.cwd()\n",
    "print(dir_path)\n",
    "def read_file():\n",
    "    dir_folder= pathlib.Path.cwd().parent\n",
    "    input_path = dir_folder/ \"data\" / \"diabetes\"\n",
    "    file_name = \"diabetes.csv\"\n",
    "    df= pd.read_csv(os.path.join(input_path,file_name))\n",
    "    return df\n",
    "\n",
    "df = read_file()\n"
   ]
  },
  {
   "cell_type": "code",
   "execution_count": 4,
   "metadata": {},
   "outputs": [
    {
     "name": "stdout",
     "output_type": "stream",
     "text": [
      "##################################################\n",
      "<class 'pandas.core.frame.DataFrame'>\n",
      "RangeIndex: 768 entries, 0 to 767\n",
      "Data columns (total 9 columns):\n",
      " #   Column                    Non-Null Count  Dtype  \n",
      "---  ------                    --------------  -----  \n",
      " 0   Pregnancies               768 non-null    int64  \n",
      " 1   Glucose                   768 non-null    int64  \n",
      " 2   BloodPressure             768 non-null    int64  \n",
      " 3   SkinThickness             768 non-null    int64  \n",
      " 4   Insulin                   768 non-null    int64  \n",
      " 5   BMI                       768 non-null    float64\n",
      " 6   DiabetesPedigreeFunction  768 non-null    float64\n",
      " 7   Age                       768 non-null    int64  \n",
      " 8   Outcome                   768 non-null    int64  \n",
      "dtypes: float64(2), int64(7)\n",
      "memory usage: 54.1 KB\n",
      "None\n"
     ]
    }
   ],
   "source": [
    "# Data shape and Variable types\n",
    "#print(df.head())\n",
    "print(\"#\"*50)\n",
    "print(df.info())\n"
   ]
  },
  {
   "cell_type": "code",
   "execution_count": null,
   "metadata": {},
   "outputs": [],
   "source": [
    "#https://www.geeksforgeeks.org/different-ways-to-iterate-over-rows-in-pandas-dataframe/ "
   ]
  },
  {
   "cell_type": "code",
   "execution_count": null,
   "metadata": {},
   "outputs": [],
   "source": [
    "# Apply function\n",
    "def print_row(row):\n",
    "    \n",
    "    print(row[\"Age\"])\n",
    "    \n",
    "df.apply(print_row,axis=1)"
   ]
  },
  {
   "cell_type": "code",
   "execution_count": 18,
   "metadata": {},
   "outputs": [
    {
     "name": "stdout",
     "output_type": "stream",
     "text": [
      "50\n",
      "31\n",
      "32\n",
      "21\n",
      "33\n",
      "30\n",
      "26\n",
      "29\n",
      "53\n",
      "54\n"
     ]
    }
   ],
   "source": [
    "# iterate through each row and select\n",
    "# 'Name' and 'Stream' column respectively.\n",
    "\n",
    "#df.index.step / start/ stop\n",
    "df1 = df.head(10)\n",
    "for ind in df1.index :\n",
    "    print(df1[\"Age\"][ind])\n",
    "\n"
   ]
  },
  {
   "cell_type": "code",
   "execution_count": 21,
   "metadata": {},
   "outputs": [
    {
     "name": "stdout",
     "output_type": "stream",
     "text": [
      "30.0\n"
     ]
    }
   ],
   "source": [
    "# iterate through each row and select\n",
    "# 'Name' and 'Age' column respectively.\n",
    "for index, row in df1.iterrows():\n",
    "    if index==5:\n",
    "        print(row[\"Age\"])"
   ]
  }
 ],
 "metadata": {
  "kernelspec": {
   "display_name": "Python 3",
   "language": "python",
   "name": "python3"
  },
  "language_info": {
   "codemirror_mode": {
    "name": "ipython",
    "version": 3
   },
   "file_extension": ".py",
   "mimetype": "text/x-python",
   "name": "python",
   "nbconvert_exporter": "python",
   "pygments_lexer": "ipython3",
   "version": "3.12.6"
  }
 },
 "nbformat": 4,
 "nbformat_minor": 2
}
